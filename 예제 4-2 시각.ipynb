{
 "cells": [
  {
   "cell_type": "code",
   "execution_count": 2,
   "id": "e2356928",
   "metadata": {},
   "outputs": [
    {
     "name": "stdout",
     "output_type": "stream",
     "text": [
      "시간대를 입력하시오(0~24): 5\n",
      "11475\n"
     ]
    }
   ],
   "source": [
    "#완전탐색\n",
    "\n",
    "while True:\n",
    "    N = int(input('시간대를 입력하시오(0~24): '))\n",
    "    if N < 0 or N > 24:\n",
    "        print(\"시간대를 다시 입력하십시오(범위 0~24 )\")\n",
    "    else:  \n",
    "        break\n",
    "\n",
    "count = 0\n",
    "for i in range(N+1):\n",
    "    for j in range(60):\n",
    "        for k in range(60):\n",
    "            if '3' in str(i) + str(j) + str(k):\n",
    "                count +=1\n",
    "print(count)"
   ]
  },
  {
   "cell_type": "code",
   "execution_count": null,
   "id": "1de6cb2f",
   "metadata": {},
   "outputs": [],
   "source": [
    "for i in range(P+1):\n",
    "    "
   ]
  }
 ],
 "metadata": {
  "kernelspec": {
   "display_name": "Python 3",
   "language": "python",
   "name": "python3"
  },
  "language_info": {
   "codemirror_mode": {
    "name": "ipython",
    "version": 3
   },
   "file_extension": ".py",
   "mimetype": "text/x-python",
   "name": "python",
   "nbconvert_exporter": "python",
   "pygments_lexer": "ipython3",
   "version": "3.8.8"
  }
 },
 "nbformat": 4,
 "nbformat_minor": 5
}
