{
 "cells": [
  {
   "cell_type": "code",
   "execution_count": 91,
   "id": "df687ee7",
   "metadata": {},
   "outputs": [],
   "source": [
    "A = [-1, -3]"
   ]
  },
  {
   "cell_type": "code",
   "execution_count": 92,
   "id": "9e53abda",
   "metadata": {},
   "outputs": [
    {
     "data": {
      "text/plain": [
       "[-1, -3]"
      ]
     },
     "execution_count": 92,
     "metadata": {},
     "output_type": "execute_result"
    }
   ],
   "source": [
    "A"
   ]
  },
  {
   "cell_type": "code",
   "execution_count": 83,
   "id": "2c84f110",
   "metadata": {},
   "outputs": [],
   "source": [
    "def solution( A ):\n",
    "    save = 0\n",
    "    le = [i+1 for i in range(len(A))]\n",
    "    if le == A:\n",
    "        return A[-1]+1\n",
    "    for i in range(1, len(A)+1):\n",
    "        if i in A:\n",
    "            save = i\n",
    "        else:\n",
    "            return i"
   ]
  },
  {
   "cell_type": "code",
   "execution_count": 84,
   "id": "e755c905",
   "metadata": {},
   "outputs": [
    {
     "data": {
      "text/plain": [
       "4"
      ]
     },
     "execution_count": 84,
     "metadata": {},
     "output_type": "execute_result"
    }
   ],
   "source": [
    "solution( A )"
   ]
  },
  {
   "cell_type": "code",
   "execution_count": 93,
   "id": "ed5e75eb",
   "metadata": {},
   "outputs": [],
   "source": [
    "def solution( A ):\n",
    "    save = 1\n",
    "    A.sort()\n",
    "    for i in A:\n",
    "        if save == i:\n",
    "            save+=1\n",
    "    return save"
   ]
  },
  {
   "cell_type": "code",
   "execution_count": 94,
   "id": "8f2448f7",
   "metadata": {},
   "outputs": [
    {
     "data": {
      "text/plain": [
       "1"
      ]
     },
     "execution_count": 94,
     "metadata": {},
     "output_type": "execute_result"
    }
   ],
   "source": [
    "solution( A )"
   ]
  },
  {
   "cell_type": "code",
   "execution_count": null,
   "id": "177e0542",
   "metadata": {},
   "outputs": [],
   "source": []
  }
 ],
 "metadata": {
  "kernelspec": {
   "display_name": "Python 3",
   "language": "python",
   "name": "python3"
  },
  "language_info": {
   "codemirror_mode": {
    "name": "ipython",
    "version": 3
   },
   "file_extension": ".py",
   "mimetype": "text/x-python",
   "name": "python",
   "nbconvert_exporter": "python",
   "pygments_lexer": "ipython3",
   "version": "3.8.8"
  }
 },
 "nbformat": 4,
 "nbformat_minor": 5
}
