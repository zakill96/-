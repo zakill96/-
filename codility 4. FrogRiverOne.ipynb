{
 "cells": [
  {
   "cell_type": "code",
   "execution_count": 169,
   "id": "a1ba2108",
   "metadata": {},
   "outputs": [],
   "source": [
    "A =[i for i in range(7)]"
   ]
  },
  {
   "cell_type": "code",
   "execution_count": 194,
   "id": "06024cd9",
   "metadata": {},
   "outputs": [],
   "source": [
    "A[0] =1\n",
    "A[1] =3\n",
    "A[2] =1\n",
    "A[3] =3\n",
    "A[4] =2\n",
    "A[5] =1\n",
    "A[6] =3"
   ]
  },
  {
   "cell_type": "code",
   "execution_count": 195,
   "id": "bcb54c20",
   "metadata": {},
   "outputs": [],
   "source": [
    "X = 3"
   ]
  },
  {
   "cell_type": "code",
   "execution_count": 196,
   "id": "3b57fc94",
   "metadata": {},
   "outputs": [
    {
     "name": "stdout",
     "output_type": "stream",
     "text": [
      "1\n"
     ]
    }
   ],
   "source": [
    "if X in A:\n",
    "    print(A.index(X))"
   ]
  },
  {
   "cell_type": "code",
   "execution_count": 197,
   "id": "acef029e",
   "metadata": {},
   "outputs": [],
   "source": [
    "A_left = A[:P]"
   ]
  },
  {
   "cell_type": "code",
   "execution_count": 198,
   "id": "b8ff98e5",
   "metadata": {},
   "outputs": [
    {
     "data": {
      "text/plain": [
       "[1, 3, 1, 3, 2, 1]"
      ]
     },
     "execution_count": 198,
     "metadata": {},
     "output_type": "execute_result"
    }
   ],
   "source": [
    "A_left"
   ]
  },
  {
   "cell_type": "code",
   "execution_count": 199,
   "id": "9bb52b53",
   "metadata": {},
   "outputs": [
    {
     "data": {
      "text/plain": [
       "(3, [1, 3, 1, 3, 2, 1, 3, 4])"
      ]
     },
     "execution_count": 199,
     "metadata": {},
     "output_type": "execute_result"
    }
   ],
   "source": [
    "X, A"
   ]
  },
  {
   "cell_type": "code",
   "execution_count": 202,
   "id": "6192a815",
   "metadata": {},
   "outputs": [],
   "source": [
    "def solution(X, A):\n",
    "    if X not in A:\n",
    "        return -1\n",
    "    leaf_num = [0]*X\n",
    "    for i in range(X):\n",
    "        leaf_num[i] = i+1\n",
    "    cnt = 0\n",
    "    index = -1\n",
    "    temp_list = leaf_num[:]\n",
    "    for i in range(1, len(leaf_num)+1):\n",
    "        if i in A:\n",
    "            cnt += 1 \n",
    "        else:\n",
    "            return -1\n",
    "    for i in A:\n",
    "        if i in temp_list and len(temp_list) != 1:\n",
    "            temp_list.remove(i)\n",
    "    if cnt == X:\n",
    "        return A.index(temp_list[0])"
   ]
  },
  {
   "cell_type": "code",
   "execution_count": 203,
   "id": "2d034952",
   "metadata": {},
   "outputs": [
    {
     "data": {
      "text/plain": [
       "4"
      ]
     },
     "execution_count": 203,
     "metadata": {},
     "output_type": "execute_result"
    }
   ],
   "source": [
    "solution(X, A)"
   ]
  },
  {
   "cell_type": "code",
   "execution_count": null,
   "id": "2b2ceac5",
   "metadata": {},
   "outputs": [],
   "source": []
  }
 ],
 "metadata": {
  "kernelspec": {
   "display_name": "Python 3",
   "language": "python",
   "name": "python3"
  },
  "language_info": {
   "codemirror_mode": {
    "name": "ipython",
    "version": 3
   },
   "file_extension": ".py",
   "mimetype": "text/x-python",
   "name": "python",
   "nbconvert_exporter": "python",
   "pygments_lexer": "ipython3",
   "version": "3.8.8"
  }
 },
 "nbformat": 4,
 "nbformat_minor": 5
}
