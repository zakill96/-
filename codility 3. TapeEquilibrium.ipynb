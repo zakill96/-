{
 "cells": [
  {
   "cell_type": "code",
   "execution_count": 3,
   "id": "b51d165f",
   "metadata": {},
   "outputs": [],
   "source": [
    "A = [i for i in range(5)]"
   ]
  },
  {
   "cell_type": "code",
   "execution_count": 5,
   "id": "37a35083",
   "metadata": {},
   "outputs": [],
   "source": [
    "A[0]=3\n",
    "A[1]=1\n",
    "A[2]=2\n",
    "A[3]=4\n",
    "A[4]=3"
   ]
  },
  {
   "cell_type": "code",
   "execution_count": 6,
   "id": "bc036ca7",
   "metadata": {},
   "outputs": [
    {
     "data": {
      "text/plain": [
       "[3, 1, 2, 4, 3]"
      ]
     },
     "execution_count": 6,
     "metadata": {},
     "output_type": "execute_result"
    }
   ],
   "source": [
    "A"
   ]
  },
  {
   "cell_type": "code",
   "execution_count": 7,
   "id": "2a981fdd",
   "metadata": {},
   "outputs": [
    {
     "data": {
      "text/plain": [
       "13"
      ]
     },
     "execution_count": 7,
     "metadata": {},
     "output_type": "execute_result"
    }
   ],
   "source": [
    "sum(A)"
   ]
  },
  {
   "cell_type": "code",
   "execution_count": 28,
   "id": "ea924dab",
   "metadata": {},
   "outputs": [],
   "source": [
    "def solution(A):\n",
    "    N = len(A)\n",
    "    left = 0\n",
    "    right = 0\n",
    "    result = []\n",
    "    for P in range(1, N):\n",
    "        sum_left = 0\n",
    "        sum_right = 0\n",
    "        left = P-1\n",
    "        right = N-P\n",
    "        for i in range(P):\n",
    "            sum_left += A[i]\n",
    "        for i in range(P, N):\n",
    "            sum_right += A[i] \n",
    "        result.append(abs(sum_left - sum_right))\n",
    "    return min(result)"
   ]
  },
  {
   "cell_type": "code",
   "execution_count": 29,
   "id": "3ed1914a",
   "metadata": {},
   "outputs": [
    {
     "data": {
      "text/plain": [
       "(1, [7, 5, 1, 7])"
      ]
     },
     "execution_count": 29,
     "metadata": {},
     "output_type": "execute_result"
    }
   ],
   "source": [
    "solution(A)"
   ]
  },
  {
   "cell_type": "code",
   "execution_count": null,
   "id": "c1a7b120",
   "metadata": {},
   "outputs": [],
   "source": []
  }
 ],
 "metadata": {
  "kernelspec": {
   "display_name": "Python 3",
   "language": "python",
   "name": "python3"
  },
  "language_info": {
   "codemirror_mode": {
    "name": "ipython",
    "version": 3
   },
   "file_extension": ".py",
   "mimetype": "text/x-python",
   "name": "python",
   "nbconvert_exporter": "python",
   "pygments_lexer": "ipython3",
   "version": "3.8.8"
  }
 },
 "nbformat": 4,
 "nbformat_minor": 5
}
