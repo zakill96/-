{
 "cells": [
  {
   "cell_type": "code",
   "execution_count": 1,
   "id": "995f7f76",
   "metadata": {},
   "outputs": [
    {
     "name": "stdout",
     "output_type": "stream",
     "text": [
      "7\n",
      "3\n",
      "4\n",
      "4\n",
      "6\n",
      "1\n",
      "4\n",
      "4\n",
      "[3, 4, 4, 6, 1, 4, 4]\n"
     ]
    }
   ],
   "source": [
    "a=int(input())\n",
    "A = [int(input()) for _ in range(a)]\n",
    "print(A)"
   ]
  },
  {
   "cell_type": "code",
   "execution_count": 2,
   "id": "1dcea2ec",
   "metadata": {},
   "outputs": [],
   "source": [
    "N=5\n",
    "arr = [0 for _ in range(N)]"
   ]
  },
  {
   "cell_type": "code",
   "execution_count": 21,
   "id": "75d55be0",
   "metadata": {},
   "outputs": [
    {
     "data": {
      "text/plain": [
       "[3, 4, 4, 6, 1, 4, 4]"
      ]
     },
     "execution_count": 21,
     "metadata": {},
     "output_type": "execute_result"
    }
   ],
   "source": [
    "A"
   ]
  },
  {
   "cell_type": "code",
   "execution_count": 20,
   "id": "1d740259",
   "metadata": {
    "scrolled": true
   },
   "outputs": [
    {
     "data": {
      "text/plain": [
       "[0, 0, 3, 3, 0]"
      ]
     },
     "execution_count": 20,
     "metadata": {},
     "output_type": "execute_result"
    }
   ],
   "source": [
    "arr"
   ]
  },
  {
   "cell_type": "code",
   "execution_count": 19,
   "id": "927b9a3c",
   "metadata": {},
   "outputs": [
    {
     "data": {
      "text/plain": [
       "3"
      ]
     },
     "execution_count": 19,
     "metadata": {},
     "output_type": "execute_result"
    }
   ],
   "source": [
    "arr[A[0]-1]"
   ]
  },
  {
   "cell_type": "code",
   "execution_count": 17,
   "id": "45cd3049",
   "metadata": {},
   "outputs": [
    {
     "data": {
      "text/plain": [
       "[0, 0, 0, 3, 0]"
      ]
     },
     "execution_count": 17,
     "metadata": {},
     "output_type": "execute_result"
    }
   ],
   "source": [
    "arr"
   ]
  },
  {
   "cell_type": "code",
   "execution_count": null,
   "id": "92807bff",
   "metadata": {},
   "outputs": [],
   "source": [
    "for i in range(len(A)):\n",
    "    if A[i] > N:\n",
    "        arr = [max(arr) for _ in range(N)]\n",
    "    else:\n",
    "        arr[A[i]-1]+=1\n",
    "        print(arr)"
   ]
  },
  {
   "cell_type": "code",
   "execution_count": null,
   "id": "4ba8a1c5",
   "metadata": {},
   "outputs": [],
   "source": [
    "arr[A[i]-1] = cnt"
   ]
  },
  {
   "cell_type": "code",
   "execution_count": 7,
   "id": "96d0a0ab",
   "metadata": {},
   "outputs": [],
   "source": [
    "def solution(N, A):\n",
    "    arr = [0 for _ in range(N)]\n",
    "    for i in range(len(A)):\n",
    "        if A[i] > N:\n",
    "            arr = [max(arr) for _ in range(N)]\n",
    "        else:\n",
    "            arr[A[i]-1]+=1\n",
    "    return arr"
   ]
  },
  {
   "cell_type": "code",
   "execution_count": 8,
   "id": "6525230f",
   "metadata": {},
   "outputs": [
    {
     "data": {
      "text/plain": [
       "[3, 2, 2, 4, 2]"
      ]
     },
     "execution_count": 8,
     "metadata": {},
     "output_type": "execute_result"
    }
   ],
   "source": [
    "solution(N, A)"
   ]
  },
  {
   "cell_type": "code",
   "execution_count": 54,
   "id": "d59d4d58",
   "metadata": {},
   "outputs": [],
   "source": [
    "def solution(N, A):\n",
    "    save = 0\n",
    "    max_num = 0\n",
    "    arr = [0 for _ in range(N)]\n",
    "    for i in range(len(A)):\n",
    "        if A[i] > N:\n",
    "            max_num = save\n",
    "        else:\n",
    "            if arr[A[i]-1] < max_num:\n",
    "                arr[A[i]-1] = max_num\n",
    "            arr[A[i]-1]+=1\n",
    "            save = max(save, arr[A[i]-1])\n",
    "    for i in range(N):\n",
    "        if arr[i] < max_num:\n",
    "            arr[i] = max_num\n",
    "    return arr"
   ]
  },
  {
   "cell_type": "code",
   "execution_count": 55,
   "id": "4fedd8af",
   "metadata": {},
   "outputs": [
    {
     "data": {
      "text/plain": [
       "[3, 2, 2, 4, 2]"
      ]
     },
     "execution_count": 55,
     "metadata": {},
     "output_type": "execute_result"
    }
   ],
   "source": [
    "solution(N, A)"
   ]
  },
  {
   "cell_type": "code",
   "execution_count": null,
   "id": "1bf88d53",
   "metadata": {},
   "outputs": [],
   "source": []
  }
 ],
 "metadata": {
  "kernelspec": {
   "display_name": "Python 3",
   "language": "python",
   "name": "python3"
  },
  "language_info": {
   "codemirror_mode": {
    "name": "ipython",
    "version": 3
   },
   "file_extension": ".py",
   "mimetype": "text/x-python",
   "name": "python",
   "nbconvert_exporter": "python",
   "pygments_lexer": "ipython3",
   "version": "3.8.8"
  }
 },
 "nbformat": 4,
 "nbformat_minor": 5
}
