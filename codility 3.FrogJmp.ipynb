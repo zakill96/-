{
 "cells": [
  {
   "cell_type": "code",
   "execution_count": 3,
   "id": "dbb1f4e6",
   "metadata": {},
   "outputs": [],
   "source": [
    "X = 10\n",
    "Y = 85\n",
    "D =30"
   ]
  },
  {
   "cell_type": "code",
   "execution_count": 6,
   "id": "7e030fba",
   "metadata": {},
   "outputs": [],
   "source": [
    "def solution(X, Y, D):\n",
    "    num = 0\n",
    "    # write your code in Python 3.6\n",
    "    remain = Y - X\n",
    "    num = remain//D\n",
    "    if remain - D*num > 0:\n",
    "        num +=1\n",
    "    return num\n"
   ]
  },
  {
   "cell_type": "code",
   "execution_count": 7,
   "id": "d19b32aa",
   "metadata": {},
   "outputs": [
    {
     "data": {
      "text/plain": [
       "3"
      ]
     },
     "execution_count": 7,
     "metadata": {},
     "output_type": "execute_result"
    }
   ],
   "source": [
    "solution(X, Y, D)"
   ]
  },
  {
   "cell_type": "code",
   "execution_count": null,
   "id": "61acdb19",
   "metadata": {},
   "outputs": [],
   "source": []
  }
 ],
 "metadata": {
  "kernelspec": {
   "display_name": "Python 3",
   "language": "python",
   "name": "python3"
  },
  "language_info": {
   "codemirror_mode": {
    "name": "ipython",
    "version": 3
   },
   "file_extension": ".py",
   "mimetype": "text/x-python",
   "name": "python",
   "nbconvert_exporter": "python",
   "pygments_lexer": "ipython3",
   "version": "3.8.8"
  }
 },
 "nbformat": 4,
 "nbformat_minor": 5
}
