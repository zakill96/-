{
 "cells": [
  {
   "cell_type": "code",
   "execution_count": 209,
   "id": "eb8563a4",
   "metadata": {},
   "outputs": [],
   "source": [
    "A = [9, 3, 9, 3, 9, 7, 9]"
   ]
  },
  {
   "cell_type": "code",
   "execution_count": 210,
   "id": "3c9075a0",
   "metadata": {},
   "outputs": [],
   "source": [
    "def solution(A):\n",
    "    cnt = 0\n",
    "    ans = 0\n",
    "    for i in range(0,len(A),1):\n",
    "        cnt = A.count(A[i])\n",
    "        if cnt%2 == 1:\n",
    "            ans= A[i]\n",
    "            return ans"
   ]
  },
  {
   "cell_type": "code",
   "execution_count": 211,
   "id": "93f6f54a",
   "metadata": {},
   "outputs": [
    {
     "data": {
      "text/plain": [
       "7"
      ]
     },
     "execution_count": 211,
     "metadata": {},
     "output_type": "execute_result"
    }
   ],
   "source": [
    "solution(A)"
   ]
  },
  {
   "cell_type": "code",
   "execution_count": 130,
   "id": "7715b326",
   "metadata": {},
   "outputs": [],
   "source": [
    "def solution(A):\n",
    "    # write your code in Python 3.6\n",
    "    if len(A) == 1:\n",
    "        return A[0]\n",
    "    A.sort()\n",
    "    print(A)\n",
    "    for i in range(0, len(A), 2):\n",
    "        print(i)\n",
    "        if i+1 == len(A):\n",
    "            return A[i]\n",
    "        if A[i] != A[i+1]:\n",
    "            return A[i]"
   ]
  },
  {
   "cell_type": "code",
   "execution_count": 52,
   "id": "cf244d73",
   "metadata": {},
   "outputs": [
    {
     "ename": "NameError",
     "evalue": "name 'reduce' is not defined",
     "output_type": "error",
     "traceback": [
      "\u001b[1;31m---------------------------------------------------------------------------\u001b[0m",
      "\u001b[1;31mNameError\u001b[0m                                 Traceback (most recent call last)",
      "\u001b[1;32m<ipython-input-52-8c9704134504>\u001b[0m in \u001b[0;36m<module>\u001b[1;34m\u001b[0m\n\u001b[1;32m----> 1\u001b[1;33m \u001b[0msolution\u001b[0m\u001b[1;33m(\u001b[0m\u001b[0mA\u001b[0m\u001b[1;33m)\u001b[0m\u001b[1;33m\u001b[0m\u001b[1;33m\u001b[0m\u001b[0m\n\u001b[0m",
      "\u001b[1;32m<ipython-input-51-9682d5f79602>\u001b[0m in \u001b[0;36msolution\u001b[1;34m(A)\u001b[0m\n\u001b[0;32m      1\u001b[0m \u001b[1;32mdef\u001b[0m \u001b[0msolution\u001b[0m\u001b[1;33m(\u001b[0m\u001b[0mA\u001b[0m\u001b[1;33m)\u001b[0m\u001b[1;33m:\u001b[0m\u001b[1;33m\u001b[0m\u001b[1;33m\u001b[0m\u001b[0m\n\u001b[1;32m----> 2\u001b[1;33m       \u001b[1;32mreturn\u001b[0m \u001b[0mreduce\u001b[0m\u001b[1;33m(\u001b[0m\u001b[1;32mlambda\u001b[0m \u001b[0mx\u001b[0m\u001b[1;33m,\u001b[0m\u001b[0my\u001b[0m\u001b[1;33m:\u001b[0m \u001b[0mx\u001b[0m\u001b[1;33m^\u001b[0m\u001b[0my\u001b[0m\u001b[1;33m,\u001b[0m \u001b[0mA\u001b[0m\u001b[1;33m)\u001b[0m\u001b[1;33m\u001b[0m\u001b[1;33m\u001b[0m\u001b[0m\n\u001b[0m",
      "\u001b[1;31mNameError\u001b[0m: name 'reduce' is not defined"
     ]
    }
   ],
   "source": [
    "solution(A)"
   ]
  },
  {
   "cell_type": "code",
   "execution_count": 51,
   "id": "331112cc",
   "metadata": {},
   "outputs": [],
   "source": [
    "def solution(A):\n",
    "      return reduce(lambda x,y: x^y, A)"
   ]
  },
  {
   "cell_type": "code",
   "execution_count": null,
   "id": "32a7ac6a",
   "metadata": {},
   "outputs": [],
   "source": []
  }
 ],
 "metadata": {
  "kernelspec": {
   "display_name": "Python 3",
   "language": "python",
   "name": "python3"
  },
  "language_info": {
   "codemirror_mode": {
    "name": "ipython",
    "version": 3
   },
   "file_extension": ".py",
   "mimetype": "text/x-python",
   "name": "python",
   "nbconvert_exporter": "python",
   "pygments_lexer": "ipython3",
   "version": "3.8.8"
  }
 },
 "nbformat": 4,
 "nbformat_minor": 5
}
