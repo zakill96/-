{
 "cells": [
  {
   "cell_type": "code",
   "execution_count": 18,
   "id": "45ae3be4",
   "metadata": {},
   "outputs": [],
   "source": [
    "N = 5\n",
    "A = [0]*N"
   ]
  },
  {
   "cell_type": "code",
   "execution_count": 24,
   "id": "4fa605cc",
   "metadata": {},
   "outputs": [],
   "source": [
    "A[1]=1\n",
    "# A[3]=1\n",
    "# A[4]=1"
   ]
  },
  {
   "cell_type": "code",
   "execution_count": 96,
   "id": "f9413f9b",
   "metadata": {},
   "outputs": [],
   "source": [
    "A = [1, 0]"
   ]
  },
  {
   "cell_type": "code",
   "execution_count": 97,
   "id": "d48aacaf",
   "metadata": {},
   "outputs": [
    {
     "data": {
      "text/plain": [
       "[1, 0]"
      ]
     },
     "execution_count": 97,
     "metadata": {},
     "output_type": "execute_result"
    }
   ],
   "source": [
    "A"
   ]
  },
  {
   "cell_type": "code",
   "execution_count": 98,
   "id": "dd32f760",
   "metadata": {},
   "outputs": [],
   "source": [
    "def solution(A):\n",
    "    save_big=0\n",
    "    save_small=0\n",
    "    save = 0\n",
    "    temp = 0\n",
    "    for i in A:\n",
    "        if i == 0:\n",
    "            save_big +=1\n",
    "    save_small=abs(len(A)- save_big)\n",
    "    if save_small > save_big:\n",
    "        temp = save_small\n",
    "        save_small = save_big\n",
    "        save_big = temp\n",
    "        \n",
    "    for i in range(save_small):\n",
    "        save += save_big\n",
    "        save_big -= 1\n",
    "        \n",
    "        \n",
    "    if save > 1000000000:\n",
    "        return -1\n",
    "    if save < 0:\n",
    "        return 0\n",
    "    return save"
   ]
  },
  {
   "cell_type": "code",
   "execution_count": 100,
   "id": "f5a1c45c",
   "metadata": {
    "scrolled": true
   },
   "outputs": [
    {
     "data": {
      "text/plain": [
       "1"
      ]
     },
     "execution_count": 100,
     "metadata": {},
     "output_type": "execute_result"
    }
   ],
   "source": [
    "solution(A)"
   ]
  },
  {
   "cell_type": "code",
   "execution_count": 235,
   "id": "d8c06bd4",
   "metadata": {},
   "outputs": [],
   "source": [
    "A = [1, 0,1, 0,1, 0,1, 0,1, 0,1]"
   ]
  },
  {
   "cell_type": "code",
   "execution_count": 236,
   "id": "a2ee01aa",
   "metadata": {},
   "outputs": [],
   "source": [
    "def solution(A):\n",
    "    save = 0\n",
    "    rest = 0\n",
    "    temp_list=[]\n",
    "    sum_list=[]\n",
    "    sum_num=0\n",
    "    sum_num_list = []\n",
    "    for i in range(len(A)):\n",
    "        if A[i] == 0:\n",
    "            temp_list.append(i+1)\n",
    "    rest = len(A)-temp_list[-1]\n",
    "    for i in range(len(temp_list)-1):\n",
    "        sum_list.append(temp_list[i+1] -temp_list[i]-1) # 0과 0 사이의 1개수\n",
    "    sum_num = sum(sum_list) +sum_list[0]\n",
    "    for i in range(len(sum_list)):\n",
    "        sum_num -= sum_list[i]\n",
    "        sum_num_list.append(sum_num)\n",
    "        if sum_list[i] == 0:\n",
    "            sum_num_list.append(sum_num_list[i])\n",
    "    save = sum(sum_num_list) + rest*len(temp_list)\n",
    "    if save > 1000000000:\n",
    "        return -1\n",
    "    return save"
   ]
  },
  {
   "cell_type": "code",
   "execution_count": 237,
   "id": "4141d419",
   "metadata": {},
   "outputs": [
    {
     "data": {
      "text/plain": [
       "15"
      ]
     },
     "execution_count": 237,
     "metadata": {},
     "output_type": "execute_result"
    }
   ],
   "source": [
    "solution(A)"
   ]
  },
  {
   "cell_type": "code",
   "execution_count": null,
   "id": "0eac8610",
   "metadata": {},
   "outputs": [],
   "source": []
  },
  {
   "cell_type": "code",
   "execution_count": null,
   "id": "9bd14f57",
   "metadata": {},
   "outputs": [],
   "source": []
  }
 ],
 "metadata": {
  "kernelspec": {
   "display_name": "Python 3",
   "language": "python",
   "name": "python3"
  },
  "language_info": {
   "codemirror_mode": {
    "name": "ipython",
    "version": 3
   },
   "file_extension": ".py",
   "mimetype": "text/x-python",
   "name": "python",
   "nbconvert_exporter": "python",
   "pygments_lexer": "ipython3",
   "version": "3.8.8"
  }
 },
 "nbformat": 4,
 "nbformat_minor": 5
}
