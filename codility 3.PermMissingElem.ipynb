{
 "cells": [
  {
   "cell_type": "code",
   "execution_count": 163,
   "id": "4a9cf872",
   "metadata": {},
   "outputs": [],
   "source": [
    "A= [0]*2"
   ]
  },
  {
   "cell_type": "code",
   "execution_count": 164,
   "id": "517b3f67",
   "metadata": {},
   "outputs": [],
   "source": [
    "A[0] = 2\n",
    "A[1] = 3\n"
   ]
  },
  {
   "cell_type": "code",
   "execution_count": 175,
   "id": "5276e277",
   "metadata": {},
   "outputs": [],
   "source": [
    "def solution(A):\n",
    "    ans= 0 \n",
    "    A.sort()\n",
    "    if len(A) == 0:\n",
    "        return 1\n",
    "    elif len(A) == 1:\n",
    "        if A[0] == 1:\n",
    "            return 2\n",
    "        else:\n",
    "            return 1\n",
    "    elif len(A) == A[-1]:\n",
    "        return A[-1] +1\n",
    "    elif A[0]!=1:\n",
    "        return 1\n",
    "    for i in range(len(A)):\n",
    "        if A[i]+1 != A[i+1]:\n",
    "            ans = A[i] +1\n",
    "            return ans\n"
   ]
  },
  {
   "cell_type": "code",
   "execution_count": 176,
   "id": "dc6c0f71",
   "metadata": {},
   "outputs": [
    {
     "data": {
      "text/plain": [
       "1"
      ]
     },
     "execution_count": 176,
     "metadata": {},
     "output_type": "execute_result"
    }
   ],
   "source": [
    "solution(A)"
   ]
  },
  {
   "cell_type": "code",
   "execution_count": null,
   "id": "c697c34a",
   "metadata": {},
   "outputs": [],
   "source": []
  },
  {
   "cell_type": "code",
   "execution_count": null,
   "id": "4312e973",
   "metadata": {},
   "outputs": [],
   "source": []
  }
 ],
 "metadata": {
  "kernelspec": {
   "display_name": "Python 3",
   "language": "python",
   "name": "python3"
  },
  "language_info": {
   "codemirror_mode": {
    "name": "ipython",
    "version": 3
   },
   "file_extension": ".py",
   "mimetype": "text/x-python",
   "name": "python",
   "nbconvert_exporter": "python",
   "pygments_lexer": "ipython3",
   "version": "3.8.8"
  }
 },
 "nbformat": 4,
 "nbformat_minor": 5
}
